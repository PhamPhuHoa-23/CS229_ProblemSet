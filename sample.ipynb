{
 "cells": [
  {
   "cell_type": "markdown",
   "id": "8a77807f92f26ee",
   "metadata": {},
   "source": [
    "# This is a sample Jupyter Notebook\n",
    "\n",
    "Below is an example of a code cell. \n",
    "Put your cursor into the cell and press Shift+Enter to execute it and select the next one, or click !here goes the icon of the corresponding button in the gutter! button.\n",
    "To debug a cell, press Alt+Shift+Enter, or click !here goes the icon of the corresponding button in the gutter! button.\n",
    "\n",
    "Press Double Shift to search everywhere for classes, files, tool windows, actions, and settings.\n",
    "\n",
    "To learn more about Jupyter Notebooks in PyCharm, see [help](https://www.jetbrains.com/help/pycharm/jupyter-notebook-support.html).\n",
    "For an overview of PyCharm, go to Help -> Learn IDE features or refer to [our documentation](https://www.jetbrains.com/help/pycharm/getting-started.html)."
   ]
  },
  {
   "cell_type": "markdown",
   "id": "17c6be9a274db8f4",
   "metadata": {},
   "source": [
    "# Load Dataset"
   ]
  },
  {
   "cell_type": "code",
   "execution_count": 196,
   "id": "f9bee177",
   "metadata": {},
   "outputs": [],
   "source": [
    "def preprocess_data(filename: str):\n",
    "    with open(filename, mode=\"r\") as f:\n",
    "        data = f.read()\n",
    "        first_place = data.find(\"{\")\n",
    "        data = data[first_place:]\n",
    "\n",
    "        lines = data.split('\\n')\n",
    "\n",
    "        lines = lines[2:]\n",
    "\n",
    "        training_set = []\n",
    "\n",
    "        for line in lines[:-1]:\n",
    "            input = {}\n",
    "\n",
    "            line = line[1:-1]\n",
    "\n",
    "            data = line.split(',')\n",
    "\n",
    "            for feature in data[:-1]:\n",
    "                key, time = feature.strip().split(' ')\n",
    "\n",
    "                input[int(key)] = int(time)\n",
    "            # print(data[-1].strip()[4:])\n",
    "            input['spam'] = int(data[-1].strip()[4:].strip() == 'spam')\n",
    "\n",
    "            training_set.append(input)\n",
    "\n",
    "        return training_set"
   ]
  },
  {
   "cell_type": "code",
   "execution_count": 227,
   "id": "fa4ee0ca",
   "metadata": {},
   "outputs": [
    {
     "name": "stdout",
     "output_type": "stream",
     "text": [
      "2000\n",
      "883\n"
     ]
    }
   ],
   "source": [
    "training_set = preprocess_data(filename='./q4/spam_train_2000.arff')\n",
    "print(len(training_set))\n",
    "\n",
    "testing_set = preprocess_data(filename='./q4/spam_test.arff')\n",
    "print(len(testing_set))"
   ]
  },
  {
   "cell_type": "code",
   "execution_count": 235,
   "id": "d83d7ce9",
   "metadata": {},
   "outputs": [
    {
     "name": "stdout",
     "output_type": "stream",
     "text": [
      "9801\n",
      "883\n"
     ]
    }
   ],
   "source": [
    "train_size = [10, 25, 50, 100, 200, 300, 400, 500, 750, 1000, 1250, 1500, 1750, 2000]\n",
    "training_set = []\n",
    "for size in train_size:\n",
    "    training_set.extend(preprocess_data(filename=f'./q4/spam_train_{size}.arff'))\n",
    "print(len(training_set))\n",
    "\n",
    "testing_set = preprocess_data(filename='./q4/spam_test.arff')\n",
    "print(len(testing_set))"
   ]
  },
  {
   "cell_type": "code",
   "execution_count": 236,
   "id": "b2e5caced4d82dae",
   "metadata": {},
   "outputs": [],
   "source": [
    "# Let's build some naive bayes\n",
    "\n",
    "# We assume that y ~ Bern(\\phi)\n",
    "# x|y = 0 ~ N(\\u_o, \\sigma)\n",
    "# x|y = 1 ~ N(\\u_1, \\sigma)\n",
    "import numpy as np\n",
    "\n",
    "PROB_DICT = {}      \n",
    "WORD_NON_SPAM_PROB = np.array([1]*1446)\n",
    "WORD_SPAM_PROB = np.array([1]*1446)"
   ]
  },
  {
   "cell_type": "code",
   "execution_count": 237,
   "id": "71f22ae0",
   "metadata": {},
   "outputs": [],
   "source": [
    "# Count \\phi_y\n",
    "SPAM = 0\n",
    "ALL_WORD_SPAM = 1446\n",
    "ALL_WORD_NON_SPAM = 1446\n",
    "\n",
    "for x in training_set:\n",
    "    if x['spam'] == 1:\n",
    "        SPAM += 1\n",
    "\n",
    "        for key in x:\n",
    "            if type(key) is int:\n",
    "                time = x[key]\n",
    "\n",
    "                ALL_WORD_SPAM += time\n",
    "                if key < 1447:\n",
    "                    WORD_SPAM_PROB[key - 1] += time\n",
    "\n",
    "    else:\n",
    "        for key in x:\n",
    "            if type(key) is int:\n",
    "                time = x[key]\n",
    "\n",
    "                ALL_WORD_NON_SPAM += time\n",
    "                \n",
    "                if key < 1447:\n",
    "                    WORD_NON_SPAM_PROB[key - 1] += time"
   ]
  },
  {
   "cell_type": "code",
   "execution_count": 238,
   "id": "4b0c8cfd",
   "metadata": {},
   "outputs": [],
   "source": [
    "PROB_DICT['spam'] = SPAM / len(training_set)\n",
    "WORD_SPAM_PROB = WORD_SPAM_PROB * 100 / ALL_WORD_SPAM\n",
    "WORD_NON_SPAM_PROB = WORD_NON_SPAM_PROB * 100 / ALL_WORD_NON_SPAM"
   ]
  },
  {
   "cell_type": "code",
   "execution_count": 239,
   "id": "b2550eab",
   "metadata": {},
   "outputs": [
    {
     "name": "stdout",
     "output_type": "stream",
     "text": [
      "{'spam': 0.506478930721355}\n",
      "[0.0540815  0.05843288 0.08329794 ... 0.02424343 0.01906321 0.19581231]\n",
      "[0.08593315 0.06474416 0.07298432 ... 0.06180124 0.01824608 0.11447944]\n",
      "482605\n",
      "339799\n"
     ]
    }
   ],
   "source": [
    "print(PROB_DICT)\n",
    "print(WORD_SPAM_PROB)\n",
    "print(WORD_NON_SPAM_PROB)\n",
    "print(ALL_WORD_SPAM)\n",
    "print(ALL_WORD_NON_SPAM)"
   ]
  },
  {
   "cell_type": "code",
   "execution_count": 240,
   "id": "33b2b648",
   "metadata": {},
   "outputs": [
    {
     "name": "stdout",
     "output_type": "stream",
     "text": [
      "2. Spam: 3.431104260469514e-51, Non-spam: 2.9979171044112425e-53, predict: 1 - 0\n",
      "27. Spam: 1.739585553443896e-52, Non-spam: 5.717728442639841e-53, predict: 1 - 0\n",
      "91. Spam: 5.930315827359944e-30, Non-spam: 2.299323574029138e-30, predict: 1 - 0\n",
      "100. Spam: 8.546530995326098e-41, Non-spam: 3.5530299662954453e-40, predict: 0 - 1\n",
      "109. Spam: 2.213341691775929e-36, Non-spam: 2.3901664723426177e-35, predict: 0 - 1\n",
      "117. Spam: 8.64792632433141e-31, Non-spam: 5.163761596520059e-30, predict: 0 - 1\n",
      "118. Spam: 2.2341075150481433e-60, Non-spam: 2.2845603726500283e-60, predict: 0 - 1\n",
      "128. Spam: 8.923635085504642e-129, Non-spam: 1.467867836770509e-128, predict: 0 - 1\n",
      "150. Spam: 3.8214504262448424e-22, Non-spam: 8.847992595386407e-22, predict: 0 - 1\n",
      "151. Spam: 0.18237442606641557, Non-spam: 0.451762048319356, predict: 0 - 1\n",
      "158. Spam: 2.1022248810392577e-111, Non-spam: 4.187081872719896e-108, predict: 0 - 1\n",
      "173. Spam: 1.7628778166698023e-71, Non-spam: 3.256141292681904e-70, predict: 0 - 1\n",
      "183. Spam: 8.949937900629402e-52, Non-spam: 2.5816351246935845e-52, predict: 1 - 0\n",
      "184. Spam: 4.866643193404239e-34, Non-spam: 2.7641783357379715e-34, predict: 1 - 0\n",
      "209. Spam: 4.757888873606968e-34, Non-spam: 5.462767416238932e-32, predict: 0 - 1\n",
      "229. Spam: 4.105086456092519e-80, Non-spam: 1.0988857460374398e-78, predict: 0 - 1\n",
      "239. Spam: 1.3703782403731448e-08, Non-spam: 8.01903785202892e-08, predict: 0 - 1\n",
      "251. Spam: 1.145286376174629e-56, Non-spam: 5.103091091677005e-56, predict: 0 - 1\n",
      "277. Spam: 3.021297175794419e-34, Non-spam: 4.123236743476699e-33, predict: 0 - 1\n",
      "297. Spam: 3.92701941094252e-76, Non-spam: 1.0694732060678452e-74, predict: 0 - 1\n",
      "323. Spam: 5.482805306804354e-35, Non-spam: 1.196282724448451e-34, predict: 0 - 1\n",
      "342. Spam: 8.800595509625044e-18, Non-spam: 4.359044039627577e-14, predict: 0 - 1\n",
      "344. Spam: 4.7610849005685314e-29, Non-spam: 4.577478556612434e-27, predict: 0 - 1\n",
      "349. Spam: 3.8507073504136614e-29, Non-spam: 6.3699641510194385e-28, predict: 0 - 1\n",
      "355. Spam: 2.4935945967642927e-83, Non-spam: 1.3258391256627484e-82, predict: 0 - 1\n",
      "366. Spam: 3.098544925360011e-35, Non-spam: 1.5310899054485619e-33, predict: 0 - 1\n",
      "369. Spam: 7.296356269181231e-76, Non-spam: 1.3617016945974938e-70, predict: 0 - 1\n",
      "374. Spam: 3.8667800403475214e-20, Non-spam: 3.598747781454474e-19, predict: 0 - 1\n",
      "384. Spam: 7.195251680425908e-120, Non-spam: 1.0607966514240908e-118, predict: 0 - 1\n",
      "388. Spam: 2.2974428107602008e-32, Non-spam: 5.544289507608777e-30, predict: 0 - 1\n",
      "396. Spam: 1.9804355333112634e-26, Non-spam: 8.597166960301539e-25, predict: 0 - 1\n",
      "409. Spam: 3.547735689200145e-79, Non-spam: 4.680562821885797e-80, predict: 1 - 0\n",
      "418. Spam: 9.8263877683077e-72, Non-spam: 1.405158271803385e-70, predict: 0 - 1\n",
      "433. Spam: 5.973550565960514e-24, Non-spam: 9.737695786478339e-24, predict: 0 - 1\n",
      "443. Spam: 1.5587310829556843e-30, Non-spam: 3.771918092317758e-29, predict: 0 - 1\n",
      "447. Spam: 8.095065094617942e-23, Non-spam: 1.0535812267230951e-22, predict: 0 - 1\n",
      "483. Spam: 3.5598373916010673e-06, Non-spam: 6.821000194251027e-06, predict: 0 - 1\n",
      "504. Spam: 2.9635551679225223e-18, Non-spam: 2.608257029679513e-17, predict: 0 - 1\n",
      "508. Spam: 3.718818823748257e-29, Non-spam: 2.438545433532027e-26, predict: 0 - 1\n",
      "522. Spam: 2.8210130654308032e-43, Non-spam: 4.962009928346393e-47, predict: 1 - 0\n",
      "526. Spam: 1.4750015631897327e-42, Non-spam: 6.386480504330329e-41, predict: 0 - 1\n",
      "531. Spam: 1.3299753005016954e-20, Non-spam: 7.581361992930757e-19, predict: 0 - 1\n",
      "566. Spam: 6.18329221327717e-210, Non-spam: 9.533870853561868e-201, predict: 0 - 1\n",
      "585. Spam: 9.8263877683077e-72, Non-spam: 1.405158271803385e-70, predict: 0 - 1\n",
      "595. Spam: 5.452926867578324e-29, Non-spam: 2.725960040454246e-26, predict: 0 - 1\n",
      "602. Spam: 4.696192139745584e-24, Non-spam: 4.174097630030908e-24, predict: 1 - 0\n",
      "614. Spam: 3.718818823748257e-29, Non-spam: 2.438545433532027e-26, predict: 0 - 1\n",
      "616. Spam: 6.538104350304667e-33, Non-spam: 1.1288639654096995e-32, predict: 0 - 1\n",
      "643. Spam: 9.191138960826901e-34, Non-spam: 3.072377222843202e-33, predict: 0 - 1\n",
      "646. Spam: 2.365511567910477e-44, Non-spam: 1.0643833491161746e-45, predict: 1 - 0\n",
      "647. Spam: 4.582570333125185e-51, Non-spam: 1.261973618917049e-50, predict: 0 - 1\n",
      "691. Spam: 8.170156315183256e-46, Non-spam: 1.2387446964415414e-44, predict: 0 - 1\n",
      "697. Spam: 9.460438673381608e-37, Non-spam: 4.2643963235306426e-36, predict: 0 - 1\n",
      "704. Spam: 1.3685932952336255e-45, Non-spam: 1.3511954136677864e-45, predict: 1 - 0\n",
      "709. Spam: 2.677682241142875e-45, Non-spam: 5.60231508898303e-47, predict: 1 - 0\n",
      "710. Spam: 1.7643206876255206e-72, Non-spam: 1.6673638972647098e-71, predict: 0 - 1\n",
      "716. Spam: 2.3172150975119574e-22, Non-spam: 3.318707288684715e-22, predict: 0 - 1\n",
      "720. Spam: 2.4336567647373895e-20, Non-spam: 2.811223247875295e-19, predict: 0 - 1\n",
      "732. Spam: 1.316879191322582e-29, Non-spam: 2.195232860044558e-28, predict: 0 - 1\n",
      "741. Spam: 8.170156315183256e-46, Non-spam: 1.2387446964415414e-44, predict: 0 - 1\n",
      "802. Spam: 9.8263877683077e-72, Non-spam: 1.405158271803385e-70, predict: 0 - 1\n",
      "805. Spam: 1.165693917860006e-112, Non-spam: 7.222484906541662e-111, predict: 0 - 1\n",
      "817. Spam: 1.7628593744368574e-135, Non-spam: 1.521718098609578e-128, predict: 0 - 1\n",
      "825. Spam: 1.1469412321212978e-47, Non-spam: 3.838206435099485e-48, predict: 1 - 0\n",
      "830. Spam: 7.494108996025101e-60, Non-spam: 6.192237582201497e-56, predict: 0 - 1\n",
      "870. Spam: 2.2932296967662237e-121, Non-spam: 3.470173269243917e-119, predict: 0 - 1\n",
      "873. Spam: 2.366695136069567e-18, Non-spam: 3.423741933497375e-19, predict: 1 - 0\n",
      "881. Spam: 1.75179095459279e-49, Non-spam: 9.988129767497944e-46, predict: 0 - 1\n"
     ]
    }
   ],
   "source": [
    "# TESTING ON THE TESTING SET\n",
    "\n",
    "correct = 0\n",
    "size = len(testing_set)\n",
    "\n",
    "for i, x_new in enumerate(testing_set):\n",
    "    spam_prob = PROB_DICT['spam']\n",
    "    non_spam_prob = 1 - spam_prob\n",
    "\n",
    "    for key in x_new:\n",
    "        if type(key) is int:\n",
    "            spam_prob *= WORD_SPAM_PROB[key - 1]\n",
    "\n",
    "            non_spam_prob *= WORD_NON_SPAM_PROB[key -1]\n",
    "    \n",
    "    predict_label = int(spam_prob >= non_spam_prob)\n",
    "\n",
    "    # print(f'{i}. Spam: {spam_prob}, Non-spam: {non_spam_prob}, predict: {predict_label} - {x_new['spam']}')\n",
    "\n",
    "    if predict_label == x_new['spam']:\n",
    "        correct += 1\n",
    "    else:\n",
    "        print(f'{i}. Spam: {spam_prob}, Non-spam: {non_spam_prob}, predict: {predict_label} - {x_new['spam']}')\n"
   ]
  },
  {
   "cell_type": "code",
   "execution_count": 241,
   "id": "252eb14b",
   "metadata": {},
   "outputs": [
    {
     "name": "stdout",
     "output_type": "stream",
     "text": [
      "Accuracy: 815 / 883\n"
     ]
    }
   ],
   "source": [
    "# Lets find out the accuracy\n",
    "print(f'Accuracy: {correct} / {size}')"
   ]
  }
 ],
 "metadata": {
  "kernelspec": {
   "display_name": "Python 3",
   "language": "python",
   "name": "python3"
  },
  "language_info": {
   "codemirror_mode": {
    "name": "ipython",
    "version": 3
   },
   "file_extension": ".py",
   "mimetype": "text/x-python",
   "name": "python",
   "nbconvert_exporter": "python",
   "pygments_lexer": "ipython3",
   "version": "3.12.0"
  }
 },
 "nbformat": 4,
 "nbformat_minor": 5
}
